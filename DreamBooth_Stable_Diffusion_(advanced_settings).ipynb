{
  "cells": [
    {
      "cell_type": "markdown",
      "metadata": {
        "id": "view-in-github",
        "colab_type": "text"
      },
      "source": [
        "<a href=\"https://colab.research.google.com/github/Zinston/colab_notebooks/blob/main/DreamBooth_Stable_Diffusion_(advanced_settings).ipynb\" target=\"_parent\"><img src=\"https://colab.research.google.com/assets/colab-badge.svg\" alt=\"Open In Colab\"/></a>"
      ]
    },
    {
      "cell_type": "markdown",
      "source": [
        "# DreamBooth Stable Diffusion (advanced settings fork)\n",
        "\n",
        "Fork by [Antoine Guenet](https://www.antoineguenet.com)."
      ],
      "metadata": {
        "id": "iIDSSPVBDmFj"
      }
    },
    {
      "cell_type": "code",
      "execution_count": null,
      "metadata": {
        "cellView": "form",
        "id": "XU7NuMAA2drw"
      },
      "outputs": [],
      "source": [
        "#@markdown Check type of GPU and VRAM available.\n",
        "!nvidia-smi --query-gpu=name,memory.total,memory.free --format=csv,noheader"
      ]
    },
    {
      "cell_type": "markdown",
      "metadata": {
        "id": "BzM7j0ZSc_9c"
      },
      "source": [
        "https://github.com/ShivamShrirao/diffusers/tree/main/examples/dreambooth"
      ]
    },
    {
      "cell_type": "markdown",
      "metadata": {
        "id": "wnTMyW41cC1E"
      },
      "source": [
        "# Install Requirements"
      ]
    },
    {
      "cell_type": "code",
      "execution_count": null,
      "metadata": {
        "id": "aLWXPZqjsZVV"
      },
      "outputs": [],
      "source": [
        "!wget -q https://github.com/ShivamShrirao/diffusers/raw/main/examples/dreambooth/train_dreambooth.py\n",
        "%pip install -qq git+https://github.com/ShivamShrirao/diffusers\n",
        "%pip install -q -U --pre triton\n",
        "%pip install -q accelerate==0.12.0 transformers ftfy bitsandbytes gradio"
      ]
    },
    {
      "cell_type": "code",
      "execution_count": null,
      "metadata": {
        "cellView": "form",
        "colab": {
          "base_uri": "https://localhost:8080/",
          "height": 299,
          "referenced_widgets": [
            "cfe92324497b489ca99c5e201111c93b",
            "372d3eed4bd54054935cc37abe721571",
            "9174d6af5d9e4832a7abfeace56736d3",
            "9a520997ee2e4fde9b88ebe4cabf2862",
            "0882b421ae8f4dbaa76aab485a9331b9",
            "fdeb7879e3f14a19ab94731cd27e3f1f",
            "5dba8de348ec48778dc0077e333c504a",
            "f3a0b61a672e4cbab33f46b046fd4b12",
            "2922e9b4e6504acf8a985c7cd732335e",
            "733a28831e344b4eaab51a3506b786f6",
            "9fb6ee51c9044f14ac88de91fce1dcd1",
            "a3899536f302441183a2357185a838ee",
            "55e211bf29e84f42b6a446b33bc9c2ed",
            "6c7684310bc24e1bb296fdaf7cada139"
          ]
        },
        "id": "y4lqqWT_uxD2",
        "outputId": "6872d3a6-fc78-49db-b05b-171244851727"
      },
      "outputs": [
        {
          "output_type": "stream",
          "name": "stdout",
          "text": [
            "Login successful\n",
            "Your token has been saved to /root/.huggingface/token\n"
          ]
        }
      ],
      "source": [
        "#@title Login to HuggingFace 🤗\n",
        "\n",
        "#@markdown You need to accept the model license before downloading or using the Stable Diffusion weights. Please, visit the [model card](https://huggingface.co/CompVis/stable-diffusion-v1-4), read the license and tick the checkbox if you agree. You have to be a registered user in 🤗 Hugging Face Hub, and you'll also need to use an access token for the code to work.\n",
        "from huggingface_hub import notebook_login\n",
        "!git config --global credential.helper store\n",
        "notebook_login()"
      ]
    },
    {
      "cell_type": "markdown",
      "metadata": {
        "id": "XfTlc8Mqb8iH"
      },
      "source": [
        "### Install xformers from precompiled wheel."
      ]
    },
    {
      "cell_type": "code",
      "execution_count": null,
      "metadata": {
        "colab": {
          "base_uri": "https://localhost:8080/"
        },
        "id": "n6dcjPnnaiCn",
        "outputId": "652532c6-bf2b-4f1f-d0a8-05bdd3d66c49"
      },
      "outputs": [
        {
          "output_type": "stream",
          "name": "stdout",
          "text": [
            "\u001b[K     |████████████████████████████████| 102.9 MB 131 kB/s \n",
            "\u001b[?25h"
          ]
        }
      ],
      "source": [
        "%pip install -q https://github.com/metrolobo/xformers_wheels/releases/download/1d31a3ac_various_6/xformers-0.0.14.dev0-cp37-cp37m-linux_x86_64.whl\n",
        "# These were compiled on Tesla T4, should also work on P100, thanks to https://github.com/metrolobo\n",
        "\n",
        "# If precompiled wheels don't work, install it with the following command. It will take around 40 minutes to compile.\n",
        "# %pip install git+https://github.com/facebookresearch/xformers@1d31a3a#egg=xformers"
      ]
    },
    {
      "cell_type": "markdown",
      "metadata": {
        "id": "G0NV324ZcL9L"
      },
      "source": [
        "# Settings"
      ]
    },
    {
      "cell_type": "markdown",
      "source": [
        "## Base settings"
      ],
      "metadata": {
        "id": "NUQIxBlHgIN5"
      }
    },
    {
      "cell_type": "code",
      "execution_count": null,
      "metadata": {
        "id": "Rxg0y5MBudmd",
        "cellView": "form"
      },
      "outputs": [],
      "source": [
        "#@markdown Name/Path of the initial model (defines `pretrained_model_name_or_path` parameter).\n",
        "MODEL_NAME = \"CompVis/stable-diffusion-v1-4\" #@param {type:\"string\"}\n",
        "# #@markdown Path to pretrained model or model identifier from [huggingface.co/models](https://www.huggingface.co/models) (required, default `None`):\n",
        "# pretrained_model_name_or_path=\"\" #@param{type: 'string'}\n",
        "pretrained_model_name_or_path=MODEL_NAME\n",
        "\n",
        "#@markdown Whether to pull your images from gdrive.\n",
        "instance_in_gdrive = True #@param {type:\"boolean\"}\n",
        "if instance_in_gdrive:\n",
        "    from google.colab import drive\n",
        "    drive.mount('/content/drive')\n",
        "\n",
        "#@markdown Path for images of the concept for training (defines `instance_data_dir` parameter).\n",
        "INSTANCE_DIR = \"/content/drive/MyDrive/AI/model_images/me\" #@param {type:\"string\"}\n",
        "if not instance_in_gdrive:\n",
        "    %(mkdir -p $INSTANCE_DIR)\n",
        "# #@markdown A folder containing the training data of instance images (required, default `None`):\n",
        "# instance_data_dir=\"\" #@param{type: 'string'}\n",
        "instance_data_dir=INSTANCE_DIR\n",
        "\n",
        "#@markdown A general name for class like dog for dog images (defines `class_data_dir` parameter as `\"/content/data/{CLASS_NAME}\"`).\n",
        "CLASS_NAME = \"man\" #@param {type:\"string\"}\n",
        "# #@markdown The prompt to specify images in the same class as provided instance images (default `None`):\n",
        "# class_prompt=\"\" #@param{type: 'string'}\n",
        "class_prompt=CLASS_NAME\n",
        "CLASS_DIR = f\"/content/data/{CLASS_NAME}\"\n",
        "# #@markdown A folder containing the training data of class images (default `None`):\n",
        "# class_data_dir=\"\" #@param{type: 'string'}\n",
        "class_data_dir=CLASS_DIR\n",
        "\n",
        "#@markdown The prompt with identifier specifying the instance (default `None`):\n",
        "instance_prompt=\"JohnFDoe\" #@param{type: 'string'}\n",
        "\n",
        "#@markdown If model weights should be saved directly in google drive (takes around 4-5 GB).\n",
        "save_to_gdrive = True #@param {type:\"boolean\"}\n",
        "if save_to_gdrive and not instance_in_gdrive:\n",
        "    from google.colab import drive\n",
        "    drive.mount('/content/drive')\n",
        "\n",
        "#@markdown Enter the directory name to save model at (defines `output_dir` parameter as `\"/content/drive/MyDrive/{OUTPUT_DIR}\"` if saving to Google Drive else `\"/content/{OUTPUT_DIR}\"`).\n",
        "\n",
        "OUTPUT_DIR = \"stable_diffusion_weights/sks\" #@param {type:\"string\"}\n",
        "if save_to_gdrive:\n",
        "    OUTPUT_DIR = \"/content/drive/MyDrive/\" + OUTPUT_DIR\n",
        "else:\n",
        "    OUTPUT_DIR = \"/content/\" + OUTPUT_DIR\n",
        "# #@markdown The output directory where the model predictions and checkpoints will be written (default `\"text-inversion-model\"`):\n",
        "# output_dir=\"text-inversion-model\" #@param{type: 'string'}\n",
        "output_dir=OUTPUT_DIR\n",
        "\n",
        "print(f\"[*] Weights will be saved at {OUTPUT_DIR}\")\n",
        "\n",
        "!mkdir -p $OUTPUT_DIR\n",
        "\n",
        "#@markdown sks is a rare identifier, feel free to replace it."
      ]
    },
    {
      "cell_type": "markdown",
      "source": [
        "## Images"
      ],
      "metadata": {
        "id": "R4VVXG6jwF0s"
      }
    },
    {
      "cell_type": "code",
      "execution_count": null,
      "metadata": {
        "id": "fe-GgtnUVO_e",
        "cellView": "form"
      },
      "outputs": [],
      "source": [
        "#@markdown Upload your images by running this cell.\n",
        "\n",
        "#@markdown OR\n",
        "\n",
        "#@markdown You can use the file manager on the left panel to upload (drag and drop) to INSTANCE_DIR (it uploads faster)\n",
        "\n",
        "import os\n",
        "from google.colab import files\n",
        "import shutil\n",
        "\n",
        "uploaded = files.upload()\n",
        "for filename in uploaded.keys():\n",
        "    dst_path = os.path.join(INSTANCE_DIR, filename)\n",
        "    shutil.move(filename, dst_path)"
      ]
    },
    {
      "cell_type": "markdown",
      "metadata": {
        "id": "qn5ILIyDJIcX"
      },
      "source": [
        "## Main training settings\n"
      ]
    },
    {
      "cell_type": "markdown",
      "source": [
        "Use the table below to choose the best flags based on your memory and speed requirements. Tested on Tesla T4 GPU.\n",
        "\n",
        "\n",
        "| `mixed_precision` | `train_batch_size` | `gradient_accumulation_steps` | `gradient_checkpointing` | `use_8bit_adam` | GB VRAM usage | Speed (it/s) |\n",
        "| ---- | ------------------ | ----------------------------- | ----------------------- | --------------- | ---------- | ------------ |\n",
        "| fp16 | 1                  | 1                             | TRUE                    | TRUE            | 9.92       | 0.93         |\n",
        "| no   | 1                  | 1                             | TRUE                    | TRUE            | 10.08      | 0.42         |\n",
        "| fp16 | 2                  | 1                             | TRUE                    | TRUE            | 10.4       | 0.66         |\n",
        "| fp16 | 1                  | 1                             | FALSE                   | TRUE            | 11.17      | 1.14         |\n",
        "| no   | 1                  | 1                             | FALSE                   | TRUE            | 11.17      | 0.49         |\n",
        "| fp16 | 1                  | 2                             | TRUE                    | TRUE            | 11.56      | 1            |\n",
        "| fp16 | 2                  | 1                             | FALSE                   | TRUE            | 13.67      | 0.82         |\n",
        "| fp16 | 1                  | 2                             | FALSE                   | TRUE            | 13.7       | 0.83          |\n",
        "| fp16 | 1                  | 1                             | TRUE                    | FALSE           | 15.79      | 0.77         |\n",
        "\n",
        "Add `--gradient_checkpointing` flag for around 9.92 GB VRAM usage.\n",
        "\n",
        "Remove `--use_8bit_adam` flag for full precision. Requires 15.79 GB storage with `--gradient_checkpointing` else 17.8 GB."
      ],
      "metadata": {
        "id": "HoLWutydgtR-"
      }
    },
    {
      "cell_type": "code",
      "source": [
        "#@markdown Whether to use mixed precision. Choose between fp16 and bf16 (bfloat16). Bf16 requires PyTorch >= 1.10 and an Nvidia Ampere GPU (default `\"fp16\"`):\n",
        "mixed_precision=\"fp16\" #@param [\"no\", \"fp16\", \"bf16\"]\n",
        "#@markdown Batch size (per device) for the training dataloader (default `2`):\n",
        "train_batch_size=2 #@param{type: 'number'}\n",
        "#@markdown Number of updates steps to accumulate before performing a backward/update pass (default `1`):\n",
        "gradient_accumulation_steps=1 #@param{type: 'number'}\n",
        "#@markdown Whether or not to use gradient checkpointing to save memory at the expense of slower backward pass (default `False`):\n",
        "gradient_checkpointing=False #@param{type: 'boolean'}\n",
        "#@markdown Whether or not to use 8-bit Adam from [bitsandbytes](https://github.com/TimDettmers/bitsandbytes) (default `True`):\n",
        "use_8bit_adam=True #@param{type: 'boolean'}"
      ],
      "metadata": {
        "cellView": "form",
        "id": "l9x2033F031Q"
      },
      "execution_count": null,
      "outputs": []
    },
    {
      "cell_type": "markdown",
      "metadata": {
        "id": "wm-j4iX22tra"
      },
      "source": [
        "## Advanced training settings"
      ]
    },
    {
      "cell_type": "markdown",
      "source": [
        "### Defaults"
      ],
      "metadata": {
        "id": "1bJKBtaLhEth"
      }
    },
    {
      "cell_type": "code",
      "source": [
        "#@markdown Flag to add prior preservation loss (default `True`):\n",
        "with_prior_preservation=True #@param{type: 'boolean'}\n",
        "#@markdown The weight of prior preservation loss (default `1.0`):\n",
        "prior_loss_weight=1.0 #@param{type: 'number'}\n",
        "#@markdown A seed for reproducible training (default `1337`, will be `None` if left at `0`):\n",
        "seed=1337 #@param{type: 'number'}\n",
        "#@markdown The resolution for input images, all the images in the train/validation dataset will be resized to this resolution (default `512`):\n",
        "resolution=512 #@param{type: 'number'}\n",
        "#@markdown Initial learning rate (after the potential warmup period) to use (default `5e-6`):\n",
        "learning_rate=5e-6 #@param{type: 'number'}\n",
        "#@markdown The scheduler type to use (default `\"constant\"`):\n",
        "lr_scheduler=\"constant\" #@param [\"linear\", \"cosine\", \"cosine_with_restarts\", \"polynomial\", \"constant\", \"constant_with_warmup\"]\n",
        "#@markdown Number of steps for the warmup in the lr scheduler (default `0`):\n",
        "lr_warmup_steps=0 #@param{type: 'number'}\n",
        "#@markdown Minimal class images for prior perversation loss. If not have enough images, additional images will be sampled with class_prompt (default `50`):\n",
        "num_class_images=50 #@param{type: 'number'}\n",
        "#@markdown Batch size (per device) for sampling images (default `4`):\n",
        "sample_batch_size=4 #@param{type: 'number'}\n",
        "#@markdown Total number of training steps to perform.  If provided, overrides `num_train_epochs` (default `1000`, will be `None` if left at `0`):\n",
        "max_train_steps=1000 #@param{type: 'number'}"
      ],
      "metadata": {
        "cellView": "form",
        "id": "s9PyJ2svqkLS"
      },
      "execution_count": null,
      "outputs": []
    },
    {
      "cell_type": "markdown",
      "source": [
        "### 8-bit Adam optimization"
      ],
      "metadata": {
        "id": "xuBVLxZVhPeh"
      }
    },
    {
      "cell_type": "code",
      "source": [
        "#@markdown The `beta1` parameter for the Adam optimizer (default `0.9`):\n",
        "adam_beta1=0.9 #@param{type: 'number'}\n",
        "#@markdown The `beta2` parameter for the Adam optimizer (default `0.999`):\n",
        "adam_beta2=0.999 #@param{type: 'number'}\n",
        "#@markdown Weight decay to use (default `1e-2`):\n",
        "adam_weight_decay=1e-2 #@param{type: 'number'}\n",
        "#@markdown Epsilon value for the Adam optimizer (default `1e-08`):\n",
        "adam_epsilon=1e-08 #@param{type: 'number'}"
      ],
      "metadata": {
        "cellView": "form",
        "id": "na-LfSyRhVya"
      },
      "execution_count": null,
      "outputs": []
    },
    {
      "cell_type": "markdown",
      "source": [
        "### Hub\n"
      ],
      "metadata": {
        "id": "bH9jNXphhbEx"
      }
    },
    {
      "cell_type": "code",
      "source": [
        "#@markdown Whether or not to push the model to the Hub (default `False`):\n",
        "push_to_hub=False #@param{type: 'boolean'}\n",
        "#@markdown The token to use to push to the Model Hub (default `None`, will be `None` if left blank):\n",
        "hub_token=\"\" #@param{type: 'string'}\n",
        "#@markdown The name of the repository to keep in sync with the local `output_dir` (default `None`, will be `None` if left blank):\n",
        "hub_model_id=\"\" #@param{type: 'string'}"
      ],
      "metadata": {
        "cellView": "form",
        "id": "1D3ce8I4hgFj"
      },
      "execution_count": null,
      "outputs": []
    },
    {
      "cell_type": "markdown",
      "source": [
        "### Logging"
      ],
      "metadata": {
        "id": "SN5mFzRQhsEU"
      }
    },
    {
      "cell_type": "code",
      "source": [
        "#@markdown [TensorBoard](https://www.tensorflow.org/tensorboard) log directory. Will default to *output_dir/runs/**CURRENT_DATETIME_HOSTNAME*** (default `\"logs\"`):\n",
        "logging_dir=\"logs\" #@param{type: 'string'}\n",
        "#@markdown Log every N steps (default `10`):\n",
        "log_interval=10 #@param{type: 'number'}"
      ],
      "metadata": {
        "cellView": "form",
        "id": "x5sfEsIUhund"
      },
      "execution_count": null,
      "outputs": []
    },
    {
      "cell_type": "markdown",
      "source": [
        "### Others"
      ],
      "metadata": {
        "id": "NUJZkR40h07x"
      }
    },
    {
      "cell_type": "code",
      "source": [
        "#@markdown Pretrained tokenizer name or path if not the same as model_name (required, default `None`):\n",
        "tokenizer_name=\"\" #@param{type: 'string'}\n",
        "#@markdown Whether to center crop images before resizing to resolution (default `False`):\n",
        "center_crop=False #@param{type: 'boolean'}\n",
        "#@markdown No doc for this one ¯\\\\\\_(ツ)\\_/¯ (default `1`):\n",
        "num_train_epochs=1 #@param{type: 'number'}\n",
        "#@markdown Scale the learning rate by the number of GPUs, gradient accumulation steps, and batch size (default `False`):\n",
        "scale_lr=False #@param{type: 'boolean'}\n",
        "#@markdown Max gradient norm (default `1.0`):\n",
        "max_grad_norm=1.0 #@param{type: 'number'}\n",
        "#@markdown Do not precompute and cache latents from VAE (default `False`):\n",
        "not_cache_latents=False #@param{type: 'boolean'}\n",
        "#@markdown For distributed training: `local_rank` (default `-1`):\n",
        "local_rank=-1 #@param{type: 'number'}"
      ],
      "metadata": {
        "cellView": "form",
        "id": "-3BFJ0BOh4oU"
      },
      "execution_count": null,
      "outputs": []
    },
    {
      "cell_type": "markdown",
      "source": [
        "# Train the model"
      ],
      "metadata": {
        "id": "f_d2FTk0eiUo"
      }
    },
    {
      "cell_type": "code",
      "execution_count": null,
      "metadata": {
        "id": "jjcSXTp-u-Eg",
        "cellView": "form"
      },
      "outputs": [],
      "source": [
        "#@markdown This will run the training with your parameters.\n",
        "\n",
        "cmd = [\n",
        "    'accelerate launch train_dreambooth.py',\n",
        "    f'--pretrained_model_name_or_path=\"{pretrained_model_name_or_path}\"',\n",
        "    f'--instance_data_dir=\"{instance_data_dir}\"',\n",
        "    f'--class_data_dir=\"{class_data_dir}\"',\n",
        "    f'--output_dir=\"{output_dir}\"',\n",
        "    f'--prior_loss_weight={prior_loss_weight}',\n",
        "    f'--instance_prompt=\"{instance_prompt}\"',\n",
        "    f'--class_prompt=\"{class_prompt}\"',\n",
        "    f'--seed={seed}',\n",
        "    f'--train_batch_size={train_batch_size}',\n",
        "    f'--gradient_accumulation_steps={gradient_accumulation_steps}',\n",
        "    f'--learning_rate={learning_rate}',\n",
        "    f'--lr_scheduler=\"{lr_scheduler}\"',\n",
        "    f'--lr_warmup_steps={lr_warmup_steps}',\n",
        "    f'--num_class_images={num_class_images}',\n",
        "    f'--sample_batch_size={sample_batch_size}',\n",
        "    f'--prior_loss_weight={prior_loss_weight}',\n",
        "    f'--max_train_steps={max_train_steps}',\n",
        "    f'--resolution={resolution}',\n",
        "    f'--learning_rate={learning_rate}',\n",
        "    f'--adam_beta1={adam_beta1}',\n",
        "    f'--adam_beta2={adam_beta2}',\n",
        "    f'--adam_weight_decay={adam_weight_decay}',\n",
        "    f'--adam_epsilon={adam_epsilon}',\n",
        "    f'--logging_dir=\"{logging_dir}\"',\n",
        "    f'--log_interval={log_interval}',\n",
        "    f'--tokenizer_name=\"{tokenizer_name}\"',\n",
        "    f'--num_train_epochs={num_train_epochs}',\n",
        "    f'--max_grad_norm={max_grad_norm}',\n",
        "    f'--local_rank={local_rank}',\n",
        "]\n",
        "\n",
        "if with_prior_preservation is True:\n",
        "    cmd.append('--with_prior_preservation')\n",
        "if use_8bit_adam is True:\n",
        "    cmd.append('--use_8bit_adam')\n",
        "if gradient_checkpointing is True:\n",
        "    cmd.append('--gradient_checkpointing')\n",
        "if with_prior_preservation is True:\n",
        "    cmd.append('--with_prior_preservation')\n",
        "if push_to_hub is True:\n",
        "    cmd.append('--push_to_hub')\n",
        "if center_crop is True:\n",
        "    cmd.append('--center_crop')\n",
        "if scale_lr is True:\n",
        "    cmd.append('--scale_lr')\n",
        "if not_cache_latents is True:\n",
        "    cmd.append('--not_cache_latents')\n",
        "if seed != 0:\n",
        "    cmd.append(f'--seed={seed}')\n",
        "if hub_token:\n",
        "    cmd.append(f'--hub_token=\"{hub_token}\"')\n",
        "if hub_model_id:\n",
        "    cmd.append(f'--hub_model_id=\"{hub_model_id}\"')\n",
        "\n",
        "cmd_string = ' '.join(cmd)\n",
        "!$cmd_string"
      ]
    },
    {
      "cell_type": "markdown",
      "metadata": {
        "id": "5V8wgU0HN-Kq"
      },
      "source": [
        "## Convert weights to ckpt to use in web UIs like AUTOMATIC1111."
      ]
    },
    {
      "cell_type": "code",
      "execution_count": null,
      "metadata": {
        "cellView": "form",
        "id": "baL22PHzOLeP"
      },
      "outputs": [],
      "source": [
        "#@markdown Download script\n",
        "!wget -q https://github.com/ShivamShrirao/diffusers/raw/main/scripts/convert_diffusers_to_original_stable_diffusion.py"
      ]
    },
    {
      "cell_type": "code",
      "execution_count": null,
      "metadata": {
        "cellView": "form",
        "id": "89Az5NUxOWdy"
      },
      "outputs": [],
      "source": [
        "#@markdown Run conversion.\n",
        "ckpt_path = OUTPUT_DIR + \"/model.ckpt\"\n",
        "\n",
        "half_arg = \"\"\n",
        "#@markdown  Whether to convert to fp16, takes half the space (2GB), might loose some quality.\n",
        "fp16 = False #@param {type: \"boolean\"}\n",
        "if fp16:\n",
        "    half_arg = \"--half\"\n",
        "!python convert_diffusers_to_original_stable_diffusion.py --model_path $OUTPUT_DIR  --checkpoint_path $ckpt_path $half_arg\n",
        "print(f\"[*] Converted ckpt saved at {ckpt_path}\")"
      ]
    },
    {
      "cell_type": "markdown",
      "metadata": {
        "id": "ToNG4fd_dTbF"
      },
      "source": [
        "## Inference"
      ]
    },
    {
      "cell_type": "code",
      "execution_count": null,
      "metadata": {
        "id": "gW15FjffdTID"
      },
      "outputs": [],
      "source": [
        "import torch\n",
        "from torch import autocast\n",
        "from diffusers import StableDiffusionPipeline\n",
        "from IPython.display import display\n",
        "\n",
        "model_path = OUTPUT_DIR             # If you want to use previously trained model saved in gdrive, replace this with the full path of model in gdrive\n",
        "\n",
        "pipe = StableDiffusionPipeline.from_pretrained(model_path, torch_dtype=torch.float16).to(\"cuda\")\n",
        "g_cuda = None"
      ]
    },
    {
      "cell_type": "code",
      "execution_count": null,
      "metadata": {
        "cellView": "form",
        "id": "oIzkltjpVO_f"
      },
      "outputs": [],
      "source": [
        "#@markdown Can set random seed here for reproducibility.\n",
        "g_cuda = torch.Generator(device='cuda')\n",
        "seed = 52362 #@param {type:\"number\"}\n",
        "g_cuda.manual_seed(seed)"
      ]
    },
    {
      "cell_type": "markdown",
      "source": [
        "# Use the model"
      ],
      "metadata": {
        "id": "xvWs3sEHxrlE"
      }
    },
    {
      "cell_type": "code",
      "execution_count": null,
      "metadata": {
        "cellView": "form",
        "id": "K6xoHWSsbcS3"
      },
      "outputs": [],
      "source": [
        "#@title Run for generating images.\n",
        "\n",
        "prompt = \"JohnFDoe twerking at a barbecue\" #@param {type:\"string\"}\n",
        "negative_prompt = \"\" #@param {type:\"string\"}\n",
        "num_samples = 4 #@param {type:\"number\"}\n",
        "guidance_scale = 7.5 #@param {type:\"number\"}\n",
        "num_inference_steps = 50 #@param {type:\"number\"}\n",
        "height = 512 #@param {type:\"number\"}\n",
        "width = 512 #@param {type:\"number\"}\n",
        "\n",
        "with autocast(\"cuda\"), torch.inference_mode():\n",
        "    images = pipe(\n",
        "        prompt,\n",
        "        height=height,\n",
        "        width=width,\n",
        "        negative_prompt=negative_prompt,\n",
        "        num_images_per_prompt=num_samples,\n",
        "        num_inference_steps=num_inference_steps,\n",
        "        guidance_scale=guidance_scale,\n",
        "        generator=g_cuda\n",
        "    ).images\n",
        "\n",
        "for img in images:\n",
        "    display(img)"
      ]
    },
    {
      "cell_type": "code",
      "execution_count": null,
      "metadata": {
        "cellView": "form",
        "id": "WMCqQ5Tcdsm2"
      },
      "outputs": [],
      "source": [
        "#@markdown Run Gradio UI for generating images.\n",
        "import gradio as gr\n",
        "\n",
        "def inference(prompt, negative_prompt, num_samples, height=512, width=512, num_inference_steps=50, guidance_scale=7.5):\n",
        "    with torch.autocast(\"cuda\"), torch.inference_mode():\n",
        "        return pipe(\n",
        "                prompt, height=int(height), width=int(width),\n",
        "                negative_prompt=negative_prompt,\n",
        "                num_images_per_prompt=int(num_samples),\n",
        "                num_inference_steps=int(num_inference_steps), guidance_scale=guidance_scale,\n",
        "                generator=g_cuda\n",
        "            ).images\n",
        "\n",
        "with gr.Blocks() as demo:\n",
        "    with gr.Row():\n",
        "        with gr.Column():\n",
        "            prompt = gr.Textbox(label=\"Prompt\", value=\"photo of sks guy, digital painting\")\n",
        "            negative_prompt = gr.Textbox(label=\"Negative Prompt\", value=\"\")\n",
        "            run = gr.Button(value=\"Generate\")\n",
        "            with gr.Row():\n",
        "                num_samples = gr.Number(label=\"Number of Samples\", value=4)\n",
        "                guidance_scale = gr.Number(label=\"Guidance Scale\", value=7.5)\n",
        "            with gr.Row():\n",
        "                height = gr.Number(label=\"Height\", value=512)\n",
        "                width = gr.Number(label=\"Width\", value=512)\n",
        "            num_inference_steps = gr.Slider(label=\"Steps\", value=50)\n",
        "        with gr.Column():\n",
        "            gallery = gr.Gallery()\n",
        "\n",
        "    run.click(inference, inputs=[prompt, negative_prompt, num_samples, height, width, num_inference_steps, guidance_scale], outputs=gallery)\n",
        "\n",
        "demo.launch(debug=True)"
      ]
    },
    {
      "cell_type": "markdown",
      "source": [
        "# Extras"
      ],
      "metadata": {
        "id": "8_rsQfWS14iG"
      }
    },
    {
      "cell_type": "code",
      "execution_count": null,
      "metadata": {
        "cellView": "form",
        "id": "lJoOgLQHnC8L"
      },
      "outputs": [],
      "source": [
        "#@title (Optional) Delete diffuser weights and only keep the ckpt to free up drive space (4GB).\n",
        "\n",
        "#@markdown [ ! ] Caution, Only execute if you are sure u want to delete the diffuser format weights and only use the ckpt.\n",
        "import shutil\n",
        "from glob import glob\n",
        "for f in glob(OUTPUT_DIR+\"/*\"):\n",
        "    if not f.endswith(\".ckpt\"):\n",
        "        try:\n",
        "            shutil.rmtree(f)\n",
        "        except NotADirectoryError:\n",
        "            continue\n",
        "        print(\"Deleted\", f)"
      ]
    },
    {
      "cell_type": "code",
      "source": [
        "from google.colab import runtime\n",
        "\n",
        "#@title (Optional) Disconnect the session\n",
        "#@markdown Run to disconnect the session (useful when programmed to run after other cells).\n",
        "\n",
        "runtime.unassign()"
      ],
      "metadata": {
        "cellView": "form",
        "id": "KVNXQyh11eBS"
      },
      "execution_count": null,
      "outputs": []
    }
  ],
  "metadata": {
    "accelerator": "GPU",
    "colab": {
      "collapsed_sections": [
        "iIDSSPVBDmFj",
        "wnTMyW41cC1E",
        "XfTlc8Mqb8iH",
        "G0NV324ZcL9L",
        "NUQIxBlHgIN5",
        "R4VVXG6jwF0s",
        "qn5ILIyDJIcX",
        "wm-j4iX22tra",
        "1bJKBtaLhEth",
        "xuBVLxZVhPeh",
        "bH9jNXphhbEx",
        "SN5mFzRQhsEU",
        "NUJZkR40h07x",
        "f_d2FTk0eiUo",
        "5V8wgU0HN-Kq",
        "ToNG4fd_dTbF",
        "xvWs3sEHxrlE",
        "8_rsQfWS14iG"
      ],
      "provenance": [],
      "include_colab_link": true
    },
    "kernelspec": {
      "display_name": "Python 3.10.7 64-bit",
      "language": "python",
      "name": "python3"
    },
    "language_info": {
      "name": "python",
      "version": "3.10.7"
    },
    "vscode": {
      "interpreter": {
        "hash": "e7370f93d1d0cde622a1f8e1c04877d8463912d04d973331ad4851f04de6915a"
      }
    },
    "widgets": {
      "application/vnd.jupyter.widget-state+json": {
        "cfe92324497b489ca99c5e201111c93b": {
          "model_module": "@jupyter-widgets/controls",
          "model_name": "VBoxModel",
          "model_module_version": "1.5.0",
          "state": {
            "_dom_classes": [],
            "_model_module": "@jupyter-widgets/controls",
            "_model_module_version": "1.5.0",
            "_model_name": "VBoxModel",
            "_view_count": null,
            "_view_module": "@jupyter-widgets/controls",
            "_view_module_version": "1.5.0",
            "_view_name": "VBoxView",
            "box_style": "",
            "children": [
              "IPY_MODEL_372d3eed4bd54054935cc37abe721571",
              "IPY_MODEL_9174d6af5d9e4832a7abfeace56736d3",
              "IPY_MODEL_9a520997ee2e4fde9b88ebe4cabf2862",
              "IPY_MODEL_0882b421ae8f4dbaa76aab485a9331b9"
            ],
            "layout": "IPY_MODEL_fdeb7879e3f14a19ab94731cd27e3f1f"
          }
        },
        "372d3eed4bd54054935cc37abe721571": {
          "model_module": "@jupyter-widgets/controls",
          "model_name": "HTMLModel",
          "model_module_version": "1.5.0",
          "state": {
            "_dom_classes": [],
            "_model_module": "@jupyter-widgets/controls",
            "_model_module_version": "1.5.0",
            "_model_name": "HTMLModel",
            "_view_count": null,
            "_view_module": "@jupyter-widgets/controls",
            "_view_module_version": "1.5.0",
            "_view_name": "HTMLView",
            "description": "",
            "description_tooltip": null,
            "layout": "IPY_MODEL_5dba8de348ec48778dc0077e333c504a",
            "placeholder": "​",
            "style": "IPY_MODEL_f3a0b61a672e4cbab33f46b046fd4b12",
            "value": "<center> <img\nsrc=https://huggingface.co/front/assets/huggingface_logo-noborder.svg\nalt='Hugging Face'> <br> Copy a token from <a\nhref=\"https://huggingface.co/settings/tokens\" target=\"_blank\">your Hugging Face\ntokens page</a> and paste it below. <br> Immediately click login after copying\nyour token or it might be stored in plain text in this notebook file. </center>"
          }
        },
        "9174d6af5d9e4832a7abfeace56736d3": {
          "model_module": "@jupyter-widgets/controls",
          "model_name": "PasswordModel",
          "model_module_version": "1.5.0",
          "state": {
            "_dom_classes": [],
            "_model_module": "@jupyter-widgets/controls",
            "_model_module_version": "1.5.0",
            "_model_name": "PasswordModel",
            "_view_count": null,
            "_view_module": "@jupyter-widgets/controls",
            "_view_module_version": "1.5.0",
            "_view_name": "PasswordView",
            "continuous_update": true,
            "description": "Token:",
            "description_tooltip": null,
            "disabled": false,
            "layout": "IPY_MODEL_2922e9b4e6504acf8a985c7cd732335e",
            "placeholder": "​",
            "style": "IPY_MODEL_733a28831e344b4eaab51a3506b786f6",
            "value": ""
          }
        },
        "9a520997ee2e4fde9b88ebe4cabf2862": {
          "model_module": "@jupyter-widgets/controls",
          "model_name": "ButtonModel",
          "model_module_version": "1.5.0",
          "state": {
            "_dom_classes": [],
            "_model_module": "@jupyter-widgets/controls",
            "_model_module_version": "1.5.0",
            "_model_name": "ButtonModel",
            "_view_count": null,
            "_view_module": "@jupyter-widgets/controls",
            "_view_module_version": "1.5.0",
            "_view_name": "ButtonView",
            "button_style": "",
            "description": "Login",
            "disabled": false,
            "icon": "",
            "layout": "IPY_MODEL_9fb6ee51c9044f14ac88de91fce1dcd1",
            "style": "IPY_MODEL_a3899536f302441183a2357185a838ee",
            "tooltip": ""
          }
        },
        "0882b421ae8f4dbaa76aab485a9331b9": {
          "model_module": "@jupyter-widgets/controls",
          "model_name": "HTMLModel",
          "model_module_version": "1.5.0",
          "state": {
            "_dom_classes": [],
            "_model_module": "@jupyter-widgets/controls",
            "_model_module_version": "1.5.0",
            "_model_name": "HTMLModel",
            "_view_count": null,
            "_view_module": "@jupyter-widgets/controls",
            "_view_module_version": "1.5.0",
            "_view_name": "HTMLView",
            "description": "",
            "description_tooltip": null,
            "layout": "IPY_MODEL_55e211bf29e84f42b6a446b33bc9c2ed",
            "placeholder": "​",
            "style": "IPY_MODEL_6c7684310bc24e1bb296fdaf7cada139",
            "value": "\n<b>Pro Tip:</b> If you don't already have one, you can create a dedicated\n'notebooks' token with 'write' access, that you can then easily reuse for all\nnotebooks. </center>"
          }
        },
        "fdeb7879e3f14a19ab94731cd27e3f1f": {
          "model_module": "@jupyter-widgets/base",
          "model_name": "LayoutModel",
          "model_module_version": "1.2.0",
          "state": {
            "_model_module": "@jupyter-widgets/base",
            "_model_module_version": "1.2.0",
            "_model_name": "LayoutModel",
            "_view_count": null,
            "_view_module": "@jupyter-widgets/base",
            "_view_module_version": "1.2.0",
            "_view_name": "LayoutView",
            "align_content": null,
            "align_items": "center",
            "align_self": null,
            "border": null,
            "bottom": null,
            "display": "flex",
            "flex": null,
            "flex_flow": "column",
            "grid_area": null,
            "grid_auto_columns": null,
            "grid_auto_flow": null,
            "grid_auto_rows": null,
            "grid_column": null,
            "grid_gap": null,
            "grid_row": null,
            "grid_template_areas": null,
            "grid_template_columns": null,
            "grid_template_rows": null,
            "height": null,
            "justify_content": null,
            "justify_items": null,
            "left": null,
            "margin": null,
            "max_height": null,
            "max_width": null,
            "min_height": null,
            "min_width": null,
            "object_fit": null,
            "object_position": null,
            "order": null,
            "overflow": null,
            "overflow_x": null,
            "overflow_y": null,
            "padding": null,
            "right": null,
            "top": null,
            "visibility": null,
            "width": "50%"
          }
        },
        "5dba8de348ec48778dc0077e333c504a": {
          "model_module": "@jupyter-widgets/base",
          "model_name": "LayoutModel",
          "model_module_version": "1.2.0",
          "state": {
            "_model_module": "@jupyter-widgets/base",
            "_model_module_version": "1.2.0",
            "_model_name": "LayoutModel",
            "_view_count": null,
            "_view_module": "@jupyter-widgets/base",
            "_view_module_version": "1.2.0",
            "_view_name": "LayoutView",
            "align_content": null,
            "align_items": null,
            "align_self": null,
            "border": null,
            "bottom": null,
            "display": null,
            "flex": null,
            "flex_flow": null,
            "grid_area": null,
            "grid_auto_columns": null,
            "grid_auto_flow": null,
            "grid_auto_rows": null,
            "grid_column": null,
            "grid_gap": null,
            "grid_row": null,
            "grid_template_areas": null,
            "grid_template_columns": null,
            "grid_template_rows": null,
            "height": null,
            "justify_content": null,
            "justify_items": null,
            "left": null,
            "margin": null,
            "max_height": null,
            "max_width": null,
            "min_height": null,
            "min_width": null,
            "object_fit": null,
            "object_position": null,
            "order": null,
            "overflow": null,
            "overflow_x": null,
            "overflow_y": null,
            "padding": null,
            "right": null,
            "top": null,
            "visibility": null,
            "width": null
          }
        },
        "f3a0b61a672e4cbab33f46b046fd4b12": {
          "model_module": "@jupyter-widgets/controls",
          "model_name": "DescriptionStyleModel",
          "model_module_version": "1.5.0",
          "state": {
            "_model_module": "@jupyter-widgets/controls",
            "_model_module_version": "1.5.0",
            "_model_name": "DescriptionStyleModel",
            "_view_count": null,
            "_view_module": "@jupyter-widgets/base",
            "_view_module_version": "1.2.0",
            "_view_name": "StyleView",
            "description_width": ""
          }
        },
        "2922e9b4e6504acf8a985c7cd732335e": {
          "model_module": "@jupyter-widgets/base",
          "model_name": "LayoutModel",
          "model_module_version": "1.2.0",
          "state": {
            "_model_module": "@jupyter-widgets/base",
            "_model_module_version": "1.2.0",
            "_model_name": "LayoutModel",
            "_view_count": null,
            "_view_module": "@jupyter-widgets/base",
            "_view_module_version": "1.2.0",
            "_view_name": "LayoutView",
            "align_content": null,
            "align_items": null,
            "align_self": null,
            "border": null,
            "bottom": null,
            "display": null,
            "flex": null,
            "flex_flow": null,
            "grid_area": null,
            "grid_auto_columns": null,
            "grid_auto_flow": null,
            "grid_auto_rows": null,
            "grid_column": null,
            "grid_gap": null,
            "grid_row": null,
            "grid_template_areas": null,
            "grid_template_columns": null,
            "grid_template_rows": null,
            "height": null,
            "justify_content": null,
            "justify_items": null,
            "left": null,
            "margin": null,
            "max_height": null,
            "max_width": null,
            "min_height": null,
            "min_width": null,
            "object_fit": null,
            "object_position": null,
            "order": null,
            "overflow": null,
            "overflow_x": null,
            "overflow_y": null,
            "padding": null,
            "right": null,
            "top": null,
            "visibility": null,
            "width": null
          }
        },
        "733a28831e344b4eaab51a3506b786f6": {
          "model_module": "@jupyter-widgets/controls",
          "model_name": "DescriptionStyleModel",
          "model_module_version": "1.5.0",
          "state": {
            "_model_module": "@jupyter-widgets/controls",
            "_model_module_version": "1.5.0",
            "_model_name": "DescriptionStyleModel",
            "_view_count": null,
            "_view_module": "@jupyter-widgets/base",
            "_view_module_version": "1.2.0",
            "_view_name": "StyleView",
            "description_width": ""
          }
        },
        "9fb6ee51c9044f14ac88de91fce1dcd1": {
          "model_module": "@jupyter-widgets/base",
          "model_name": "LayoutModel",
          "model_module_version": "1.2.0",
          "state": {
            "_model_module": "@jupyter-widgets/base",
            "_model_module_version": "1.2.0",
            "_model_name": "LayoutModel",
            "_view_count": null,
            "_view_module": "@jupyter-widgets/base",
            "_view_module_version": "1.2.0",
            "_view_name": "LayoutView",
            "align_content": null,
            "align_items": null,
            "align_self": null,
            "border": null,
            "bottom": null,
            "display": null,
            "flex": null,
            "flex_flow": null,
            "grid_area": null,
            "grid_auto_columns": null,
            "grid_auto_flow": null,
            "grid_auto_rows": null,
            "grid_column": null,
            "grid_gap": null,
            "grid_row": null,
            "grid_template_areas": null,
            "grid_template_columns": null,
            "grid_template_rows": null,
            "height": null,
            "justify_content": null,
            "justify_items": null,
            "left": null,
            "margin": null,
            "max_height": null,
            "max_width": null,
            "min_height": null,
            "min_width": null,
            "object_fit": null,
            "object_position": null,
            "order": null,
            "overflow": null,
            "overflow_x": null,
            "overflow_y": null,
            "padding": null,
            "right": null,
            "top": null,
            "visibility": null,
            "width": null
          }
        },
        "a3899536f302441183a2357185a838ee": {
          "model_module": "@jupyter-widgets/controls",
          "model_name": "ButtonStyleModel",
          "model_module_version": "1.5.0",
          "state": {
            "_model_module": "@jupyter-widgets/controls",
            "_model_module_version": "1.5.0",
            "_model_name": "ButtonStyleModel",
            "_view_count": null,
            "_view_module": "@jupyter-widgets/base",
            "_view_module_version": "1.2.0",
            "_view_name": "StyleView",
            "button_color": null,
            "font_weight": ""
          }
        },
        "55e211bf29e84f42b6a446b33bc9c2ed": {
          "model_module": "@jupyter-widgets/base",
          "model_name": "LayoutModel",
          "model_module_version": "1.2.0",
          "state": {
            "_model_module": "@jupyter-widgets/base",
            "_model_module_version": "1.2.0",
            "_model_name": "LayoutModel",
            "_view_count": null,
            "_view_module": "@jupyter-widgets/base",
            "_view_module_version": "1.2.0",
            "_view_name": "LayoutView",
            "align_content": null,
            "align_items": null,
            "align_self": null,
            "border": null,
            "bottom": null,
            "display": null,
            "flex": null,
            "flex_flow": null,
            "grid_area": null,
            "grid_auto_columns": null,
            "grid_auto_flow": null,
            "grid_auto_rows": null,
            "grid_column": null,
            "grid_gap": null,
            "grid_row": null,
            "grid_template_areas": null,
            "grid_template_columns": null,
            "grid_template_rows": null,
            "height": null,
            "justify_content": null,
            "justify_items": null,
            "left": null,
            "margin": null,
            "max_height": null,
            "max_width": null,
            "min_height": null,
            "min_width": null,
            "object_fit": null,
            "object_position": null,
            "order": null,
            "overflow": null,
            "overflow_x": null,
            "overflow_y": null,
            "padding": null,
            "right": null,
            "top": null,
            "visibility": null,
            "width": null
          }
        },
        "6c7684310bc24e1bb296fdaf7cada139": {
          "model_module": "@jupyter-widgets/controls",
          "model_name": "DescriptionStyleModel",
          "model_module_version": "1.5.0",
          "state": {
            "_model_module": "@jupyter-widgets/controls",
            "_model_module_version": "1.5.0",
            "_model_name": "DescriptionStyleModel",
            "_view_count": null,
            "_view_module": "@jupyter-widgets/base",
            "_view_module_version": "1.2.0",
            "_view_name": "StyleView",
            "description_width": ""
          }
        }
      }
    },
    "gpuClass": "standard"
  },
  "nbformat": 4,
  "nbformat_minor": 0
}